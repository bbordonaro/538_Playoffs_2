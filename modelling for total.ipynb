{
 "cells": [
  {
   "cell_type": "markdown",
   "metadata": {},
   "source": [
    "# Modelling for Total"
   ]
  },
  {
   "cell_type": "code",
   "execution_count": 1,
   "metadata": {},
   "outputs": [],
   "source": [
    "import pandas as pd\n",
    "from sklearn.model_selection import train_test_split"
   ]
  },
  {
   "cell_type": "markdown",
   "metadata": {},
   "source": [
    "Load in cleaned up data and creating TOTAL variable"
   ]
  },
  {
   "cell_type": "code",
   "execution_count": 2,
   "metadata": {
    "scrolled": false
   },
   "outputs": [
    {
     "data": {
      "text/html": [
       "<div>\n",
       "<style scoped>\n",
       "    .dataframe tbody tr th:only-of-type {\n",
       "        vertical-align: middle;\n",
       "    }\n",
       "\n",
       "    .dataframe tbody tr th {\n",
       "        vertical-align: top;\n",
       "    }\n",
       "\n",
       "    .dataframe thead th {\n",
       "        text-align: right;\n",
       "    }\n",
       "</style>\n",
       "<table border=\"1\" class=\"dataframe\">\n",
       "  <thead>\n",
       "    <tr style=\"text-align: right;\">\n",
       "      <th></th>\n",
       "      <th>Unnamed: 0</th>\n",
       "      <th>GAME_DATE_EST</th>\n",
       "      <th>GAME_ID</th>\n",
       "      <th>GAME_STATUS_TEXT</th>\n",
       "      <th>HOME_TEAM_ID</th>\n",
       "      <th>VISITOR_TEAM_ID</th>\n",
       "      <th>SEASON</th>\n",
       "      <th>TEAM_NAME_home</th>\n",
       "      <th>PTS_home</th>\n",
       "      <th>FG_PCT_home</th>\n",
       "      <th>...</th>\n",
       "      <th>FG3A_away</th>\n",
       "      <th>FG3M_away</th>\n",
       "      <th>WSE_home</th>\n",
       "      <th>WSE_away</th>\n",
       "      <th>WSE_DIFF</th>\n",
       "      <th>SEASON_PACE_home</th>\n",
       "      <th>SEASON_PACE_away</th>\n",
       "      <th>SEASON_ORB%_home</th>\n",
       "      <th>SEASON_ORB%_away</th>\n",
       "      <th>TOTAL</th>\n",
       "    </tr>\n",
       "  </thead>\n",
       "  <tbody>\n",
       "    <tr>\n",
       "      <th>0</th>\n",
       "      <td>0</td>\n",
       "      <td>12/19/20</td>\n",
       "      <td>12000047</td>\n",
       "      <td>Final</td>\n",
       "      <td>1610612753</td>\n",
       "      <td>1610612766</td>\n",
       "      <td>2020</td>\n",
       "      <td>Orlando Magic</td>\n",
       "      <td>120.0</td>\n",
       "      <td>0.433</td>\n",
       "      <td>...</td>\n",
       "      <td>41</td>\n",
       "      <td>18</td>\n",
       "      <td>2.933</td>\n",
       "      <td>3.069</td>\n",
       "      <td>-0.136</td>\n",
       "      <td>98.6</td>\n",
       "      <td>95.8</td>\n",
       "      <td>22.3</td>\n",
       "      <td>23.9</td>\n",
       "      <td>237.0</td>\n",
       "    </tr>\n",
       "    <tr>\n",
       "      <th>1</th>\n",
       "      <td>1</td>\n",
       "      <td>12/19/20</td>\n",
       "      <td>12000048</td>\n",
       "      <td>Final</td>\n",
       "      <td>1610612764</td>\n",
       "      <td>1610612765</td>\n",
       "      <td>2020</td>\n",
       "      <td>Washington Wizards</td>\n",
       "      <td>99.0</td>\n",
       "      <td>0.427</td>\n",
       "      <td>...</td>\n",
       "      <td>46</td>\n",
       "      <td>15</td>\n",
       "      <td>2.364</td>\n",
       "      <td>2.429</td>\n",
       "      <td>-0.065</td>\n",
       "      <td>102.7</td>\n",
       "      <td>97.6</td>\n",
       "      <td>22.2</td>\n",
       "      <td>22.6</td>\n",
       "      <td>195.0</td>\n",
       "    </tr>\n",
       "    <tr>\n",
       "      <th>2</th>\n",
       "      <td>2</td>\n",
       "      <td>12/19/20</td>\n",
       "      <td>12000049</td>\n",
       "      <td>Final</td>\n",
       "      <td>1610612763</td>\n",
       "      <td>1610612737</td>\n",
       "      <td>2020</td>\n",
       "      <td>Memphis Grizzlies</td>\n",
       "      <td>116.0</td>\n",
       "      <td>0.400</td>\n",
       "      <td>...</td>\n",
       "      <td>37</td>\n",
       "      <td>11</td>\n",
       "      <td>2.732</td>\n",
       "      <td>2.572</td>\n",
       "      <td>0.160</td>\n",
       "      <td>102.8</td>\n",
       "      <td>103.0</td>\n",
       "      <td>23.0</td>\n",
       "      <td>21.6</td>\n",
       "      <td>233.0</td>\n",
       "    </tr>\n",
       "    <tr>\n",
       "      <th>3</th>\n",
       "      <td>3</td>\n",
       "      <td>12/18/20</td>\n",
       "      <td>12000039</td>\n",
       "      <td>Final</td>\n",
       "      <td>1610612754</td>\n",
       "      <td>1610612755</td>\n",
       "      <td>2020</td>\n",
       "      <td>Indiana Pacers</td>\n",
       "      <td>107.0</td>\n",
       "      <td>0.371</td>\n",
       "      <td>...</td>\n",
       "      <td>31</td>\n",
       "      <td>11</td>\n",
       "      <td>2.220</td>\n",
       "      <td>2.760</td>\n",
       "      <td>-0.540</td>\n",
       "      <td>98.9</td>\n",
       "      <td>99.0</td>\n",
       "      <td>20.0</td>\n",
       "      <td>23.9</td>\n",
       "      <td>220.0</td>\n",
       "    </tr>\n",
       "    <tr>\n",
       "      <th>4</th>\n",
       "      <td>4</td>\n",
       "      <td>12/18/20</td>\n",
       "      <td>12000040</td>\n",
       "      <td>Final</td>\n",
       "      <td>1610612761</td>\n",
       "      <td>1610612748</td>\n",
       "      <td>2020</td>\n",
       "      <td>Toronto Raptors</td>\n",
       "      <td>105.0</td>\n",
       "      <td>0.380</td>\n",
       "      <td>...</td>\n",
       "      <td>37</td>\n",
       "      <td>19</td>\n",
       "      <td>2.565</td>\n",
       "      <td>3.351</td>\n",
       "      <td>-0.786</td>\n",
       "      <td>100.9</td>\n",
       "      <td>98.3</td>\n",
       "      <td>21.3</td>\n",
       "      <td>20.3</td>\n",
       "      <td>222.0</td>\n",
       "    </tr>\n",
       "  </tbody>\n",
       "</table>\n",
       "<p>5 rows × 40 columns</p>\n",
       "</div>"
      ],
      "text/plain": [
       "   Unnamed: 0 GAME_DATE_EST   GAME_ID GAME_STATUS_TEXT  HOME_TEAM_ID  \\\n",
       "0           0      12/19/20  12000047            Final    1610612753   \n",
       "1           1      12/19/20  12000048            Final    1610612764   \n",
       "2           2      12/19/20  12000049            Final    1610612763   \n",
       "3           3      12/18/20  12000039            Final    1610612754   \n",
       "4           4      12/18/20  12000040            Final    1610612761   \n",
       "\n",
       "   VISITOR_TEAM_ID  SEASON      TEAM_NAME_home  PTS_home  FG_PCT_home  ...  \\\n",
       "0       1610612766    2020       Orlando Magic     120.0        0.433  ...   \n",
       "1       1610612765    2020  Washington Wizards      99.0        0.427  ...   \n",
       "2       1610612737    2020   Memphis Grizzlies     116.0        0.400  ...   \n",
       "3       1610612755    2020      Indiana Pacers     107.0        0.371  ...   \n",
       "4       1610612748    2020     Toronto Raptors     105.0        0.380  ...   \n",
       "\n",
       "   FG3A_away  FG3M_away  WSE_home  WSE_away WSE_DIFF  SEASON_PACE_home  \\\n",
       "0         41         18     2.933     3.069   -0.136              98.6   \n",
       "1         46         15     2.364     2.429   -0.065             102.7   \n",
       "2         37         11     2.732     2.572    0.160             102.8   \n",
       "3         31         11     2.220     2.760   -0.540              98.9   \n",
       "4         37         19     2.565     3.351   -0.786             100.9   \n",
       "\n",
       "   SEASON_PACE_away  SEASON_ORB%_home  SEASON_ORB%_away  TOTAL  \n",
       "0              95.8              22.3              23.9  237.0  \n",
       "1              97.6              22.2              22.6  195.0  \n",
       "2             103.0              23.0              21.6  233.0  \n",
       "3              99.0              20.0              23.9  220.0  \n",
       "4              98.3              21.3              20.3  222.0  \n",
       "\n",
       "[5 rows x 40 columns]"
      ]
     },
     "execution_count": 2,
     "metadata": {},
     "output_type": "execute_result"
    }
   ],
   "source": [
    "df = pd.read_csv('games_4_7.csv')\n",
    "df['TOTAL'] = df['PTS_home'] + df['PTS_away']\n",
    "df.head()"
   ]
  },
  {
   "cell_type": "code",
   "execution_count": 3,
   "metadata": {},
   "outputs": [],
   "source": [
    "#drop variables that are unnecessary or correlated with others\n",
    "to_drop = ['Unnamed: 0', 'GAME_ID', 'GAME_STATUS_TEXT', 'HOME_TEAM_ID', 'VISITOR_TEAM_ID', 'PTS_home', 'PTS_away', 'HOME_TEAM_WINS', 'TOTAL', 'SEASON', 'FGA_home', 'FGM_home', 'FG3A_home', 'FG3M_home', 'FGA_away', 'FGM_away', 'FG3A_away', 'FG3M_away', 'WSE_DIFF']"
   ]
  },
  {
   "cell_type": "code",
   "execution_count": 4,
   "metadata": {},
   "outputs": [],
   "source": [
    "X = df.drop(to_drop, 1)\n",
    "y = df['TOTAL']"
   ]
  },
  {
   "cell_type": "code",
   "execution_count": 5,
   "metadata": {},
   "outputs": [],
   "source": [
    "X_train, X_test, y_train, y_test = train_test_split(X, y, test_size = 0.2, random_state = 538)"
   ]
  },
  {
   "cell_type": "markdown",
   "metadata": {},
   "source": [
    "## Feature Selection"
   ]
  },
  {
   "cell_type": "markdown",
   "metadata": {},
   "source": [
    "### Random Forest"
   ]
  },
  {
   "cell_type": "code",
   "execution_count": 6,
   "metadata": {},
   "outputs": [],
   "source": [
    "from sklearn.ensemble import RandomForestRegressor\n",
    "from sklearn.feature_selection import SelectFromModel"
   ]
  },
  {
   "cell_type": "code",
   "execution_count": 7,
   "metadata": {},
   "outputs": [],
   "source": [
    "X_train_n = X_train.drop([\"TEAM_NAME_home\", \"TEAM_NAME_away\", \"GAME_DATE_EST\"], 1)"
   ]
  },
  {
   "cell_type": "code",
   "execution_count": 8,
   "metadata": {},
   "outputs": [
    {
     "data": {
      "text/plain": [
       "SelectFromModel(estimator=RandomForestRegressor())"
      ]
     },
     "execution_count": 8,
     "metadata": {},
     "output_type": "execute_result"
    }
   ],
   "source": [
    "sel = SelectFromModel(RandomForestRegressor(n_estimators = 100))\n",
    "sel.fit(X_train_n, y_train)"
   ]
  },
  {
   "cell_type": "code",
   "execution_count": 9,
   "metadata": {},
   "outputs": [
    {
     "name": "stdout",
     "output_type": "stream",
     "text": [
      "Index(['FG_PCT_home', 'AST_home', 'FG_PCT_away', 'SEASON_PACE_away'], dtype='object')\n"
     ]
    }
   ],
   "source": [
    "selected_feat= X_train_n.columns[(sel.get_support())]\n",
    "print(selected_feat)"
   ]
  },
  {
   "cell_type": "code",
   "execution_count": 10,
   "metadata": {},
   "outputs": [
    {
     "name": "stdout",
     "output_type": "stream",
     "text": [
      "Index(['FG_PCT_home', 'AST_home', 'FG_PCT_away', 'AST_away', 'REB_away',\n",
      "       'WSE_home', 'WSE_away', 'SEASON_PACE_home', 'SEASON_PACE_away'],\n",
      "      dtype='object')\n"
     ]
    }
   ],
   "source": [
    "sel_more = SelectFromModel(RandomForestRegressor(n_estimators = 100), threshold = \"median\")\n",
    "sel_more.fit(X_train_n, y_train)\n",
    "selected_feat_more= X_train_n.columns[(sel_more.get_support())]\n",
    "print(selected_feat_more)"
   ]
  },
  {
   "cell_type": "code",
   "execution_count": 11,
   "metadata": {
    "scrolled": true
   },
   "outputs": [
    {
     "name": "stdout",
     "output_type": "stream",
     "text": [
      "Index(['FG_PCT_home', 'FT_PCT_home', 'FG3_PCT_home', 'AST_home', 'REB_home',\n",
      "       'FG_PCT_away', 'FT_PCT_away', 'FG3_PCT_away', 'AST_away', 'REB_away',\n",
      "       'OREB_home', 'OREB_away', 'WSE_home', 'WSE_away', 'SEASON_PACE_home',\n",
      "       'SEASON_PACE_away', 'SEASON_ORB%_home', 'SEASON_ORB%_away'],\n",
      "      dtype='object')\n"
     ]
    }
   ],
   "source": [
    "print(X_train_n.columns)"
   ]
  },
  {
   "cell_type": "markdown",
   "metadata": {},
   "source": [
    "### LASSO"
   ]
  },
  {
   "cell_type": "code",
   "execution_count": 12,
   "metadata": {},
   "outputs": [],
   "source": [
    "import numpy as np\n",
    "from sklearn.linear_model import Lasso, LogisticRegression"
   ]
  },
  {
   "cell_type": "code",
   "execution_count": 13,
   "metadata": {},
   "outputs": [
    {
     "data": {
      "text/plain": [
       "SelectFromModel(estimator=LogisticRegression(C=1, max_iter=500, penalty='l1',\n",
       "                                             solver='liblinear'))"
      ]
     },
     "execution_count": 13,
     "metadata": {},
     "output_type": "execute_result"
    }
   ],
   "source": [
    "sel_lasso = SelectFromModel(LogisticRegression(C=1, penalty='l1', solver='liblinear', max_iter = 500))\n",
    "sel_lasso.fit(X_train_n, np.ravel(y_train,order='C'))"
   ]
  },
  {
   "cell_type": "code",
   "execution_count": 14,
   "metadata": {
    "scrolled": true
   },
   "outputs": [
    {
     "name": "stdout",
     "output_type": "stream",
     "text": [
      "total features: 18\n",
      "selected features: 14\n",
      "Index(['FT_PCT_home', 'AST_home', 'REB_home', 'FT_PCT_away', 'AST_away',\n",
      "       'REB_away', 'OREB_home', 'OREB_away', 'WSE_home', 'WSE_away',\n",
      "       'SEASON_PACE_home', 'SEASON_PACE_away', 'SEASON_ORB%_home',\n",
      "       'SEASON_ORB%_away'],\n",
      "      dtype='object')\n",
      "features with coefficients shrank to zero: 985\n"
     ]
    }
   ],
   "source": [
    "selected_feat = X_train_n.columns[(sel_lasso.get_support())]\n",
    "print('total features: {}'.format((X_train_n.shape[1])))\n",
    "print('selected features: {}'.format(len(selected_feat)))\n",
    "print(selected_feat)\n",
    "print('features with coefficients shrank to zero: {}'.format(\n",
    "np.sum(sel_lasso.estimator_.coef_ == 0)))"
   ]
  },
  {
   "cell_type": "markdown",
   "metadata": {},
   "source": [
    "Due to the regularization aspect, we will be going forward with selected features as suggested by the LASSO feature selection."
   ]
  },
  {
   "cell_type": "code",
   "execution_count": 15,
   "metadata": {
    "scrolled": true
   },
   "outputs": [
    {
     "data": {
      "text/html": [
       "<div>\n",
       "<style scoped>\n",
       "    .dataframe tbody tr th:only-of-type {\n",
       "        vertical-align: middle;\n",
       "    }\n",
       "\n",
       "    .dataframe tbody tr th {\n",
       "        vertical-align: top;\n",
       "    }\n",
       "\n",
       "    .dataframe thead th {\n",
       "        text-align: right;\n",
       "    }\n",
       "</style>\n",
       "<table border=\"1\" class=\"dataframe\">\n",
       "  <thead>\n",
       "    <tr style=\"text-align: right;\">\n",
       "      <th></th>\n",
       "      <th>FT_PCT_home</th>\n",
       "      <th>AST_home</th>\n",
       "      <th>REB_home</th>\n",
       "      <th>FT_PCT_away</th>\n",
       "      <th>AST_away</th>\n",
       "      <th>REB_away</th>\n",
       "      <th>OREB_home</th>\n",
       "      <th>OREB_away</th>\n",
       "      <th>WSE_home</th>\n",
       "      <th>WSE_away</th>\n",
       "      <th>SEASON_PACE_home</th>\n",
       "      <th>SEASON_PACE_away</th>\n",
       "      <th>SEASON_ORB%_home</th>\n",
       "      <th>SEASON_ORB%_away</th>\n",
       "    </tr>\n",
       "  </thead>\n",
       "  <tbody>\n",
       "    <tr>\n",
       "      <th>2040</th>\n",
       "      <td>0.737</td>\n",
       "      <td>23.0</td>\n",
       "      <td>46.0</td>\n",
       "      <td>0.889</td>\n",
       "      <td>31.0</td>\n",
       "      <td>57.0</td>\n",
       "      <td>12</td>\n",
       "      <td>12</td>\n",
       "      <td>2.013</td>\n",
       "      <td>3.015</td>\n",
       "      <td>98.4</td>\n",
       "      <td>95.6</td>\n",
       "      <td>22.2</td>\n",
       "      <td>18.0</td>\n",
       "    </tr>\n",
       "    <tr>\n",
       "      <th>5231</th>\n",
       "      <td>0.839</td>\n",
       "      <td>24.0</td>\n",
       "      <td>54.0</td>\n",
       "      <td>0.957</td>\n",
       "      <td>23.0</td>\n",
       "      <td>40.0</td>\n",
       "      <td>13</td>\n",
       "      <td>4</td>\n",
       "      <td>2.709</td>\n",
       "      <td>2.632</td>\n",
       "      <td>97.9</td>\n",
       "      <td>96.6</td>\n",
       "      <td>20.6</td>\n",
       "      <td>23.4</td>\n",
       "    </tr>\n",
       "    <tr>\n",
       "      <th>1994</th>\n",
       "      <td>0.905</td>\n",
       "      <td>28.0</td>\n",
       "      <td>43.0</td>\n",
       "      <td>0.895</td>\n",
       "      <td>22.0</td>\n",
       "      <td>37.0</td>\n",
       "      <td>6</td>\n",
       "      <td>10</td>\n",
       "      <td>3.306</td>\n",
       "      <td>3.046</td>\n",
       "      <td>96.5</td>\n",
       "      <td>98.3</td>\n",
       "      <td>23.3</td>\n",
       "      <td>20.6</td>\n",
       "    </tr>\n",
       "    <tr>\n",
       "      <th>971</th>\n",
       "      <td>1.000</td>\n",
       "      <td>23.0</td>\n",
       "      <td>54.0</td>\n",
       "      <td>0.789</td>\n",
       "      <td>19.0</td>\n",
       "      <td>38.0</td>\n",
       "      <td>10</td>\n",
       "      <td>8</td>\n",
       "      <td>3.443</td>\n",
       "      <td>2.617</td>\n",
       "      <td>99.1</td>\n",
       "      <td>102.8</td>\n",
       "      <td>26.6</td>\n",
       "      <td>26.0</td>\n",
       "    </tr>\n",
       "    <tr>\n",
       "      <th>3092</th>\n",
       "      <td>0.800</td>\n",
       "      <td>20.0</td>\n",
       "      <td>49.0</td>\n",
       "      <td>0.857</td>\n",
       "      <td>21.0</td>\n",
       "      <td>45.0</td>\n",
       "      <td>13</td>\n",
       "      <td>11</td>\n",
       "      <td>2.404</td>\n",
       "      <td>2.943</td>\n",
       "      <td>96.0</td>\n",
       "      <td>96.8</td>\n",
       "      <td>26.6</td>\n",
       "      <td>21.2</td>\n",
       "    </tr>\n",
       "  </tbody>\n",
       "</table>\n",
       "</div>"
      ],
      "text/plain": [
       "      FT_PCT_home  AST_home  REB_home  FT_PCT_away  AST_away  REB_away  \\\n",
       "2040        0.737      23.0      46.0        0.889      31.0      57.0   \n",
       "5231        0.839      24.0      54.0        0.957      23.0      40.0   \n",
       "1994        0.905      28.0      43.0        0.895      22.0      37.0   \n",
       "971         1.000      23.0      54.0        0.789      19.0      38.0   \n",
       "3092        0.800      20.0      49.0        0.857      21.0      45.0   \n",
       "\n",
       "      OREB_home  OREB_away  WSE_home  WSE_away  SEASON_PACE_home  \\\n",
       "2040         12         12     2.013     3.015              98.4   \n",
       "5231         13          4     2.709     2.632              97.9   \n",
       "1994          6         10     3.306     3.046              96.5   \n",
       "971          10          8     3.443     2.617              99.1   \n",
       "3092         13         11     2.404     2.943              96.0   \n",
       "\n",
       "      SEASON_PACE_away  SEASON_ORB%_home  SEASON_ORB%_away  \n",
       "2040              95.6              22.2              18.0  \n",
       "5231              96.6              20.6              23.4  \n",
       "1994              98.3              23.3              20.6  \n",
       "971              102.8              26.6              26.0  \n",
       "3092              96.8              26.6              21.2  "
      ]
     },
     "execution_count": 15,
     "metadata": {},
     "output_type": "execute_result"
    }
   ],
   "source": [
    "#X_train_sel = X_train_n[['FT_PCT_home', 'AST_home', 'REB_home', 'FT_PCT_away', 'AST_away',\n",
    "#       'REB_away', 'OREB_home', 'OREB_away', 'WSE_home', 'WSE_away',\n",
    "#       'SEASON_PACE_home', 'SEASON_PACE_away', 'SEASON_ORB%_home',\n",
    "#       'SEASON_ORB%_away']]\n",
    "X_train_sel = X_train_n[['FT_PCT_home', 'AST_home', 'REB_home', 'FT_PCT_away',\n",
    "       'AST_away', 'REB_away', 'OREB_home', 'OREB_away', 'WSE_home',\n",
    "       'WSE_away', 'SEASON_PACE_home', 'SEASON_PACE_away', 'SEASON_ORB%_home',\n",
    "       'SEASON_ORB%_away']]\n",
    "X_train_sel.head()"
   ]
  },
  {
   "cell_type": "code",
   "execution_count": 16,
   "metadata": {},
   "outputs": [],
   "source": [
    "#X_test_sel = X_test[['FT_PCT_home', 'AST_home', 'REB_home', 'FT_PCT_away', 'AST_away',\n",
    "#       'REB_away', 'OREB_home', 'OREB_away', 'WSE_home', 'WSE_away',\n",
    "#       'SEASON_PACE_home', 'SEASON_PACE_away', 'SEASON_ORB%_home',\n",
    "#       'SEASON_ORB%_away']]\n",
    "\n",
    "X_test_sel = X_test[['FT_PCT_home', 'AST_home', 'REB_home', 'FT_PCT_away',\n",
    "       'AST_away', 'REB_away', 'OREB_home', 'OREB_away', 'WSE_home',\n",
    "       'WSE_away', 'SEASON_PACE_home', 'SEASON_PACE_away', 'SEASON_ORB%_home',\n",
    "       'SEASON_ORB%_away']]"
   ]
  },
  {
   "cell_type": "markdown",
   "metadata": {},
   "source": [
    "## Finding the Best Model"
   ]
  },
  {
   "cell_type": "markdown",
   "metadata": {},
   "source": [
    "Need to test different regression models to determine which one is 'the best'"
   ]
  },
  {
   "cell_type": "markdown",
   "metadata": {},
   "source": [
    "### Random Forest Regression"
   ]
  },
  {
   "cell_type": "code",
   "execution_count": 17,
   "metadata": {},
   "outputs": [],
   "source": [
    "from sklearn import metrics\n",
    "from sklearn.metrics import r2_score\n",
    "import matplotlib.pyplot as plt"
   ]
  },
  {
   "cell_type": "code",
   "execution_count": 18,
   "metadata": {},
   "outputs": [],
   "source": [
    "# create regressor object\n",
    "regressor = RandomForestRegressor(n_estimators = 100, random_state = 0)\n",
    "  \n",
    "# fit the regressor with x and y data\n",
    "regressor.fit(X_train_sel, y_train)\n",
    "\n",
    "#make predictions\n",
    "y_pred_rf = regressor.predict(X_test_sel)"
   ]
  },
  {
   "cell_type": "code",
   "execution_count": 19,
   "metadata": {},
   "outputs": [
    {
     "name": "stdout",
     "output_type": "stream",
     "text": [
      "Mean Absolute Error (MAE): 10.830596363636364\n",
      "Mean Squared Error (MSE): 188.71447265454546\n",
      "Root Mean Squared Error (RMSE): 13.737338630700833\n",
      "Mean Absolute Percentage Error (MAPE): 5.11\n",
      "Accuracy: 94.89\n",
      "R-Squared: 0.5646132098842525\n"
     ]
    }
   ],
   "source": [
    "#evaluate model\n",
    "print('Mean Absolute Error (MAE):', metrics.mean_absolute_error(y_test, y_pred_rf))\n",
    "print('Mean Squared Error (MSE):', metrics.mean_squared_error(y_test, y_pred_rf))\n",
    "print('Root Mean Squared Error (RMSE):', np.sqrt(metrics.mean_squared_error(y_test, y_pred_rf)))\n",
    "mape = np.mean(np.abs((y_test - y_pred_rf) / np.abs(y_test)))\n",
    "print('Mean Absolute Percentage Error (MAPE):', round(mape * 100, 2))\n",
    "print('Accuracy:', round(100*(1 - mape), 2))\n",
    "print('R-Squared:', r2_score(y_test, y_pred_rf))"
   ]
  },
  {
   "cell_type": "code",
   "execution_count": 20,
   "metadata": {
    "scrolled": true
   },
   "outputs": [
    {
     "data": {
      "image/png": "[encoded data removed]",
      "text/plain": [
       "<Figure size 432x288 with 1 Axes>"
      ]
     },
     "metadata": {
      "needs_background": "light"
     },
     "output_type": "display_data"
    }
   ],
   "source": [
    "fig, ax = plt.subplots()\n",
    "ax.scatter(y_test, y_pred_rf)\n",
    "ax.plot([y_test.min(), y_test.max()], [y_test.min(), y_test.max()], 'k--', lw=4)\n",
    "ax.set_xlabel('Measured')\n",
    "ax.set_ylabel('Predicted')\n",
    "plt.show()"
   ]
  },
  {
   "cell_type": "markdown",
   "metadata": {},
   "source": [
    "### SVR"
   ]
  },
  {
   "cell_type": "code",
   "execution_count": 21,
   "metadata": {},
   "outputs": [],
   "source": [
    "from sklearn.svm import SVR"
   ]
  },
  {
   "cell_type": "code",
   "execution_count": 22,
   "metadata": {},
   "outputs": [],
   "source": [
    "# create svr object\n",
    "svr_model = SVR()\n",
    "  \n",
    "# fit the regressor with x and y data\n",
    "svr_model.fit(X_train_sel, y_train)\n",
    "\n",
    "#make predictions\n",
    "y_pred_svr = svr_model.predict(X_test_sel)"
   ]
  },
  {
   "cell_type": "code",
   "execution_count": 23,
   "metadata": {},
   "outputs": [
    {
     "name": "stdout",
     "output_type": "stream",
     "text": [
      "Mean Absolute Error (MAE): 13.611773498640623\n",
      "Mean Squared Error (MSE): 292.7064158058345\n",
      "Root Mean Squared Error (RMSE): 17.108664933472586\n",
      "Mean Absolute Percentage Error (MAPE): 6.44\n",
      "Accuracy: 93.56\n",
      "R-Squared: 0.324691397372177\n"
     ]
    }
   ],
   "source": [
    "#evaluate model\n",
    "print('Mean Absolute Error (MAE):', metrics.mean_absolute_error(y_test, y_pred_svr))\n",
    "print('Mean Squared Error (MSE):', metrics.mean_squared_error(y_test, y_pred_svr))\n",
    "print('Root Mean Squared Error (RMSE):', np.sqrt(metrics.mean_squared_error(y_test, y_pred_svr)))\n",
    "mape = np.mean(np.abs((y_test - y_pred_svr) / np.abs(y_test)))\n",
    "print('Mean Absolute Percentage Error (MAPE):', round(mape * 100, 2))\n",
    "print('Accuracy:', round(100*(1 - mape), 2))\n",
    "print('R-Squared:', r2_score(y_test, y_pred_svr))"
   ]
  },
  {
   "cell_type": "code",
   "execution_count": 24,
   "metadata": {},
   "outputs": [
    {
     "data": {
      "image/png": "[encoded data removed]",
      "text/plain": [
       "<Figure size 432x288 with 1 Axes>"
      ]
     },
     "metadata": {
      "needs_background": "light"
     },
     "output_type": "display_data"
    }
   ],
   "source": [
    "fig, ax = plt.subplots()\n",
    "ax.scatter(y_test, y_pred_svr)\n",
    "ax.plot([y_test.min(), y_test.max()], [y_test.min(), y_test.max()], 'k--', lw=4)\n",
    "ax.set_xlabel('Measured')\n",
    "ax.set_ylabel('Predicted')\n",
    "plt.show()"
   ]
  },
  {
   "cell_type": "markdown",
   "metadata": {},
   "source": [
    "### Decision Tree Regression"
   ]
  },
  {
   "cell_type": "code",
   "execution_count": 25,
   "metadata": {},
   "outputs": [],
   "source": [
    "from sklearn import tree"
   ]
  },
  {
   "cell_type": "code",
   "execution_count": 26,
   "metadata": {},
   "outputs": [],
   "source": [
    "# create tree object\n",
    "dt = tree.DecisionTreeRegressor()\n",
    "  \n",
    "# fit the regressor with x and y data\n",
    "dt.fit(X_train_sel, y_train)\n",
    "\n",
    "#make predictions\n",
    "y_pred_dt = dt.predict(X_test_sel)"
   ]
  },
  {
   "cell_type": "code",
   "execution_count": 27,
   "metadata": {},
   "outputs": [
    {
     "name": "stdout",
     "output_type": "stream",
     "text": [
      "Mean Absolute Error (MAE): 16.663272727272727\n",
      "Mean Squared Error (MSE): 433.26836363636363\n",
      "Root Mean Squared Error (RMSE): 20.815099414520308\n",
      "Mean Absolute Percentage Error (MAPE): 7.83\n",
      "Accuracy: 92.17\n",
      "R-Squared: 0.00039822357633467753\n"
     ]
    }
   ],
   "source": [
    "#evaluate model\n",
    "print('Mean Absolute Error (MAE):', metrics.mean_absolute_error(y_test, y_pred_dt))\n",
    "print('Mean Squared Error (MSE):', metrics.mean_squared_error(y_test, y_pred_dt))\n",
    "print('Root Mean Squared Error (RMSE):', np.sqrt(metrics.mean_squared_error(y_test, y_pred_dt)))\n",
    "mape = np.mean(np.abs((y_test - y_pred_dt) / np.abs(y_test)))\n",
    "print('Mean Absolute Percentage Error (MAPE):', round(mape * 100, 2))\n",
    "print('Accuracy:', round(100*(1 - mape), 2))\n",
    "print('R-Squared:', r2_score(y_test, y_pred_dt))"
   ]
  },
  {
   "cell_type": "code",
   "execution_count": 28,
   "metadata": {},
   "outputs": [
    {
     "data": {
      "image/png": "[encoded data removed]",
      "text/plain": [
       "<Figure size 432x288 with 1 Axes>"
      ]
     },
     "metadata": {
      "needs_background": "light"
     },
     "output_type": "display_data"
    }
   ],
   "source": [
    "fig, ax = plt.subplots()\n",
    "ax.scatter(y_test, y_pred_dt)\n",
    "ax.plot([y_test.min(), y_test.max()], [y_test.min(), y_test.max()], 'k--', lw=4)\n",
    "ax.set_xlabel('Measured')\n",
    "ax.set_ylabel('Predicted')\n",
    "plt.show()"
   ]
  },
  {
   "cell_type": "markdown",
   "metadata": {},
   "source": [
    "### Linear Regression"
   ]
  },
  {
   "cell_type": "code",
   "execution_count": 29,
   "metadata": {},
   "outputs": [],
   "source": [
    "from sklearn.linear_model import LinearRegression"
   ]
  },
  {
   "cell_type": "code",
   "execution_count": 30,
   "metadata": {},
   "outputs": [],
   "source": [
    "# create linear model object\n",
    "lm = LinearRegression()\n",
    "  \n",
    "# fit the regressor with x and y data\n",
    "lm.fit(X_train_sel, y_train)\n",
    "\n",
    "#make predictions\n",
    "y_pred_lm = lm.predict(X_test_sel)"
   ]
  },
  {
   "cell_type": "code",
   "execution_count": 31,
   "metadata": {},
   "outputs": [
    {
     "name": "stdout",
     "output_type": "stream",
     "text": [
      "Mean Absolute Error (MAE): 10.49011925343016\n",
      "Mean Squared Error (MSE): 175.6181190659274\n",
      "Root Mean Squared Error (RMSE): 13.252098666472696\n",
      "Mean Absolute Percentage Error (MAPE): 4.94\n",
      "Accuracy: 95.06\n",
      "R-Squared: 0.5948280591799242\n"
     ]
    }
   ],
   "source": [
    "#evaluate model\n",
    "print('Mean Absolute Error (MAE):', metrics.mean_absolute_error(y_test, y_pred_lm))\n",
    "print('Mean Squared Error (MSE):', metrics.mean_squared_error(y_test, y_pred_lm))\n",
    "print('Root Mean Squared Error (RMSE):', np.sqrt(metrics.mean_squared_error(y_test, y_pred_lm)))\n",
    "mape = np.mean(np.abs((y_test - y_pred_lm) / np.abs(y_test)))\n",
    "print('Mean Absolute Percentage Error (MAPE):', round(mape * 100, 2))\n",
    "print('Accuracy:', round(100*(1 - mape), 2))\n",
    "print('R-Squared:', r2_score(y_test, y_pred_lm))"
   ]
  },
  {
   "cell_type": "code",
   "execution_count": 32,
   "metadata": {
    "scrolled": true
   },
   "outputs": [
    {
     "data": {
      "image/png": "[encoded data removed]",
      "text/plain": [
       "<Figure size 432x288 with 1 Axes>"
      ]
     },
     "metadata": {
      "needs_background": "light"
     },
     "output_type": "display_data"
    }
   ],
   "source": [
    "fig, ax = plt.subplots()\n",
    "ax.scatter(y_test, y_pred_dt)\n",
    "ax.plot([y_test.min(), y_test.max()], [y_test.min(), y_test.max()], 'k--', lw=4)\n",
    "ax.set_xlabel('Measured')\n",
    "ax.set_ylabel('Predicted')\n",
    "plt.show()"
   ]
  },
  {
   "cell_type": "markdown",
   "metadata": {},
   "source": [
    "It appears that the linear model is suprisingly the best model. We now need to remodel our 'recent' dataset so we have an set of 'x' to predict the upcoming totals for the games."
   ]
  },
  {
   "cell_type": "markdown",
   "metadata": {},
   "source": [
    "## Creating a new 'x'"
   ]
  },
  {
   "cell_type": "markdown",
   "metadata": {},
   "source": [
    "In order to be able to predict for upcoming games, we will be creating an 'x' based off each team's box score averages for the 2021 season to put in our model to attain our predictions. The data can be found at: https://www.espn.com/nba/stats/team and https://www.espn.com/nba/stats/team/_/view/opponent. The dataset was created with Excel and will be read in below:"
   ]
  },
  {
   "cell_type": "code",
   "execution_count": 33,
   "metadata": {},
   "outputs": [],
   "source": [
    "# read in prediction.csv\n",
    "pred = pd.read_csv('Predictions.csv')\n",
    "\n",
    "#read in new x csv\n",
    "x_for_pred = pd.read_csv('x_for_pred.csv')"
   ]
  },
  {
   "cell_type": "code",
   "execution_count": 34,
   "metadata": {},
   "outputs": [
    {
     "data": {
      "text/html": [
       "<div>\n",
       "<style scoped>\n",
       "    .dataframe tbody tr th:only-of-type {\n",
       "        vertical-align: middle;\n",
       "    }\n",
       "\n",
       "    .dataframe tbody tr th {\n",
       "        vertical-align: top;\n",
       "    }\n",
       "\n",
       "    .dataframe thead th {\n",
       "        text-align: right;\n",
       "    }\n",
       "</style>\n",
       "<table border=\"1\" class=\"dataframe\">\n",
       "  <thead>\n",
       "    <tr style=\"text-align: right;\">\n",
       "      <th></th>\n",
       "      <th>DATE</th>\n",
       "      <th>Home Team</th>\n",
       "      <th>Away Team</th>\n",
       "      <th>Spread</th>\n",
       "      <th>Total</th>\n",
       "      <th>OREB</th>\n",
       "    </tr>\n",
       "  </thead>\n",
       "  <tbody>\n",
       "    <tr>\n",
       "      <th>0</th>\n",
       "      <td>4/10/2021</td>\n",
       "      <td>Brooklyn Nets</td>\n",
       "      <td>Los Angeles Lakers</td>\n",
       "      <td>NaN</td>\n",
       "      <td>NaN</td>\n",
       "      <td>NaN</td>\n",
       "    </tr>\n",
       "    <tr>\n",
       "      <th>1</th>\n",
       "      <td>4/10/2021</td>\n",
       "      <td>Oklahoma City Thunder</td>\n",
       "      <td>Philadelphia 76ers</td>\n",
       "      <td>NaN</td>\n",
       "      <td>NaN</td>\n",
       "      <td>NaN</td>\n",
       "    </tr>\n",
       "    <tr>\n",
       "      <th>2</th>\n",
       "      <td>4/10/2021</td>\n",
       "      <td>Utah Jazz</td>\n",
       "      <td>Sacramento Kings</td>\n",
       "      <td>NaN</td>\n",
       "      <td>NaN</td>\n",
       "      <td>NaN</td>\n",
       "    </tr>\n",
       "    <tr>\n",
       "      <th>3</th>\n",
       "      <td>4/10/2021</td>\n",
       "      <td>Golden State Warriors</td>\n",
       "      <td>Houston Rockets</td>\n",
       "      <td>NaN</td>\n",
       "      <td>NaN</td>\n",
       "      <td>NaN</td>\n",
       "    </tr>\n",
       "    <tr>\n",
       "      <th>4</th>\n",
       "      <td>4/10/2021</td>\n",
       "      <td>Phoenix Suns</td>\n",
       "      <td>Washington Wizards</td>\n",
       "      <td>NaN</td>\n",
       "      <td>NaN</td>\n",
       "      <td>NaN</td>\n",
       "    </tr>\n",
       "  </tbody>\n",
       "</table>\n",
       "</div>"
      ],
      "text/plain": [
       "        DATE              Home Team           Away Team  Spread  Total  \\\n",
       "0  4/10/2021          Brooklyn Nets  Los Angeles Lakers     NaN    NaN   \n",
       "1  4/10/2021  Oklahoma City Thunder  Philadelphia 76ers     NaN    NaN   \n",
       "2  4/10/2021              Utah Jazz    Sacramento Kings     NaN    NaN   \n",
       "3  4/10/2021  Golden State Warriors     Houston Rockets     NaN    NaN   \n",
       "4  4/10/2021           Phoenix Suns  Washington Wizards     NaN    NaN   \n",
       "\n",
       "           OREB  \n",
       "0           NaN  \n",
       "1           NaN  \n",
       "2           NaN  \n",
       "3           NaN  \n",
       "4           NaN  "
      ]
     },
     "execution_count": 34,
     "metadata": {},
     "output_type": "execute_result"
    }
   ],
   "source": [
    "pred.head()"
   ]
  },
  {
   "cell_type": "code",
   "execution_count": 35,
   "metadata": {},
   "outputs": [
    {
     "data": {
      "text/html": [
       "<div>\n",
       "<style scoped>\n",
       "    .dataframe tbody tr th:only-of-type {\n",
       "        vertical-align: middle;\n",
       "    }\n",
       "\n",
       "    .dataframe tbody tr th {\n",
       "        vertical-align: top;\n",
       "    }\n",
       "\n",
       "    .dataframe thead th {\n",
       "        text-align: right;\n",
       "    }\n",
       "</style>\n",
       "<table border=\"1\" class=\"dataframe\">\n",
       "  <thead>\n",
       "    <tr style=\"text-align: right;\">\n",
       "      <th></th>\n",
       "      <th>TEAM_home</th>\n",
       "      <th>TEAM_away</th>\n",
       "      <th>FG_PCT_home</th>\n",
       "      <th>FT_PCT_home</th>\n",
       "      <th>FG3_PCT_home</th>\n",
       "      <th>AST_home</th>\n",
       "      <th>REB_home</th>\n",
       "      <th>FG_PCT_away</th>\n",
       "      <th>FT_PCT_away</th>\n",
       "      <th>FG3_PCT_away</th>\n",
       "      <th>AST_away</th>\n",
       "      <th>REB_away</th>\n",
       "      <th>OREB_home</th>\n",
       "      <th>OREB_away</th>\n",
       "      <th>WSE_home</th>\n",
       "      <th>WSE_away</th>\n",
       "      <th>SEASON_PACE_home</th>\n",
       "      <th>SEASON_PACE_away</th>\n",
       "      <th>SEASON_ORB_home</th>\n",
       "      <th>SEASON_ORB_away</th>\n",
       "    </tr>\n",
       "  </thead>\n",
       "  <tbody>\n",
       "    <tr>\n",
       "      <th>0</th>\n",
       "      <td>Brooklyn Nets</td>\n",
       "      <td>Los Angeles Lakers</td>\n",
       "      <td>0.494</td>\n",
       "      <td>0.800</td>\n",
       "      <td>0.393</td>\n",
       "      <td>26.8</td>\n",
       "      <td>44.3</td>\n",
       "      <td>0.454</td>\n",
       "      <td>0.765</td>\n",
       "      <td>0.350</td>\n",
       "      <td>24.7</td>\n",
       "      <td>41.9</td>\n",
       "      <td>9.0</td>\n",
       "      <td>9.1</td>\n",
       "      <td>2.967</td>\n",
       "      <td>2.723</td>\n",
       "      <td>99.7</td>\n",
       "      <td>98.9</td>\n",
       "      <td>21.6</td>\n",
       "      <td>22.6</td>\n",
       "    </tr>\n",
       "    <tr>\n",
       "      <th>1</th>\n",
       "      <td>Oklahoma City Thunder</td>\n",
       "      <td>Philadelphia 76ers</td>\n",
       "      <td>0.445</td>\n",
       "      <td>0.738</td>\n",
       "      <td>0.348</td>\n",
       "      <td>22.6</td>\n",
       "      <td>44.9</td>\n",
       "      <td>0.452</td>\n",
       "      <td>0.768</td>\n",
       "      <td>0.363</td>\n",
       "      <td>23.5</td>\n",
       "      <td>42.0</td>\n",
       "      <td>8.9</td>\n",
       "      <td>9.4</td>\n",
       "      <td>2.672</td>\n",
       "      <td>2.761</td>\n",
       "      <td>100.2</td>\n",
       "      <td>100.6</td>\n",
       "      <td>18.3</td>\n",
       "      <td>24.1</td>\n",
       "    </tr>\n",
       "    <tr>\n",
       "      <th>2</th>\n",
       "      <td>Utah Jazz</td>\n",
       "      <td>Sacramento Kings</td>\n",
       "      <td>0.467</td>\n",
       "      <td>0.790</td>\n",
       "      <td>0.390</td>\n",
       "      <td>23.5</td>\n",
       "      <td>48.3</td>\n",
       "      <td>0.488</td>\n",
       "      <td>0.799</td>\n",
       "      <td>0.392</td>\n",
       "      <td>25.4</td>\n",
       "      <td>44.8</td>\n",
       "      <td>10.9</td>\n",
       "      <td>10.5</td>\n",
       "      <td>2.894</td>\n",
       "      <td>2.951</td>\n",
       "      <td>98.8</td>\n",
       "      <td>99.9</td>\n",
       "      <td>25.2</td>\n",
       "      <td>22.8</td>\n",
       "    </tr>\n",
       "    <tr>\n",
       "      <th>3</th>\n",
       "      <td>Golden State Warriors</td>\n",
       "      <td>Houston Rockets</td>\n",
       "      <td>0.461</td>\n",
       "      <td>0.778</td>\n",
       "      <td>0.368</td>\n",
       "      <td>27.3</td>\n",
       "      <td>42.6</td>\n",
       "      <td>0.468</td>\n",
       "      <td>0.780</td>\n",
       "      <td>0.373</td>\n",
       "      <td>24.6</td>\n",
       "      <td>48.1</td>\n",
       "      <td>8.0</td>\n",
       "      <td>10.1</td>\n",
       "      <td>2.804</td>\n",
       "      <td>2.835</td>\n",
       "      <td>102.6</td>\n",
       "      <td>101.3</td>\n",
       "      <td>17.2</td>\n",
       "      <td>19.1</td>\n",
       "    </tr>\n",
       "    <tr>\n",
       "      <th>4</th>\n",
       "      <td>Phoenix Suns</td>\n",
       "      <td>Washington Wizards</td>\n",
       "      <td>0.489</td>\n",
       "      <td>0.832</td>\n",
       "      <td>0.376</td>\n",
       "      <td>27.0</td>\n",
       "      <td>43.5</td>\n",
       "      <td>0.472</td>\n",
       "      <td>0.777</td>\n",
       "      <td>0.380</td>\n",
       "      <td>24.1</td>\n",
       "      <td>46.8</td>\n",
       "      <td>8.5</td>\n",
       "      <td>10.3</td>\n",
       "      <td>2.938</td>\n",
       "      <td>2.861</td>\n",
       "      <td>97.1</td>\n",
       "      <td>104.3</td>\n",
       "      <td>20.2</td>\n",
       "      <td>20.1</td>\n",
       "    </tr>\n",
       "  </tbody>\n",
       "</table>\n",
       "</div>"
      ],
      "text/plain": [
       "               TEAM_home           TEAM_away  FG_PCT_home  FT_PCT_home  \\\n",
       "0          Brooklyn Nets  Los Angeles Lakers        0.494        0.800   \n",
       "1  Oklahoma City Thunder  Philadelphia 76ers        0.445        0.738   \n",
       "2              Utah Jazz    Sacramento Kings        0.467        0.790   \n",
       "3  Golden State Warriors     Houston Rockets        0.461        0.778   \n",
       "4           Phoenix Suns  Washington Wizards        0.489        0.832   \n",
       "\n",
       "   FG3_PCT_home  AST_home  REB_home  FG_PCT_away  FT_PCT_away  FG3_PCT_away  \\\n",
       "0         0.393      26.8      44.3        0.454        0.765         0.350   \n",
       "1         0.348      22.6      44.9        0.452        0.768         0.363   \n",
       "2         0.390      23.5      48.3        0.488        0.799         0.392   \n",
       "3         0.368      27.3      42.6        0.468        0.780         0.373   \n",
       "4         0.376      27.0      43.5        0.472        0.777         0.380   \n",
       "\n",
       "   AST_away  REB_away  OREB_home  OREB_away  WSE_home  WSE_away  \\\n",
       "0      24.7      41.9        9.0        9.1     2.967     2.723   \n",
       "1      23.5      42.0        8.9        9.4     2.672     2.761   \n",
       "2      25.4      44.8       10.9       10.5     2.894     2.951   \n",
       "3      24.6      48.1        8.0       10.1     2.804     2.835   \n",
       "4      24.1      46.8        8.5       10.3     2.938     2.861   \n",
       "\n",
       "   SEASON_PACE_home  SEASON_PACE_away  SEASON_ORB_home  SEASON_ORB_away  \n",
       "0              99.7              98.9             21.6             22.6  \n",
       "1             100.2             100.6             18.3             24.1  \n",
       "2              98.8              99.9             25.2             22.8  \n",
       "3             102.6             101.3             17.2             19.1  \n",
       "4              97.1             104.3             20.2             20.1  "
      ]
     },
     "execution_count": 35,
     "metadata": {},
     "output_type": "execute_result"
    }
   ],
   "source": [
    "x_for_pred.head()"
   ]
  },
  {
   "cell_type": "markdown",
   "metadata": {},
   "source": [
    "## Make predictions with our best model!"
   ]
  },
  {
   "cell_type": "code",
   "execution_count": 36,
   "metadata": {},
   "outputs": [],
   "source": [
    "season_avg_21 = x_for_pred[['FT_PCT_home', 'AST_home', 'REB_home', 'FT_PCT_away',\n",
    "       'AST_away', 'REB_away', 'OREB_home', 'OREB_away', 'WSE_home',\n",
    "       'WSE_away', 'SEASON_PACE_home', 'SEASON_PACE_away', 'SEASON_ORB_home',\n",
    "       'SEASON_ORB_away']]"
   ]
  },
  {
   "cell_type": "code",
   "execution_count": 37,
   "metadata": {},
   "outputs": [
    {
     "data": {
      "text/plain": [
       "array([226.27624614, 218.51832189, 232.81564923, 231.73461412,\n",
       "       233.32652646, 219.83232832, 224.06306237, 224.95049821,\n",
       "       220.6308141 , 223.74714277, 222.38530068, 220.75665768,\n",
       "       232.867026  , 223.03113779, 226.2505877 , 218.1737578 ,\n",
       "       215.43442726, 221.52045691, 223.74452264, 218.18350668,\n",
       "       227.71668208, 232.05038989, 234.68143668, 225.20735471,\n",
       "       229.8900314 , 220.45363034, 220.33839434, 223.59914788,\n",
       "       228.40749203, 223.06903723, 218.56968379, 226.70140163,\n",
       "       225.55174294, 224.69606828, 214.92660934, 229.92981127,\n",
       "       227.82916678, 217.43923253, 223.25493812, 224.07505332,\n",
       "       223.703953  , 224.55457221, 232.31756162, 228.27912426,\n",
       "       222.31927585, 220.59471319, 231.46073902, 231.1824724 ,\n",
       "       221.51491246, 220.62541854, 229.98340157, 232.20300487,\n",
       "       224.25639621, 231.03658527, 216.79014794, 221.42295677,\n",
       "       222.78849941, 210.35767796, 217.9877541 , 226.16732925,\n",
       "       228.65014866, 227.3134575 , 233.62119639, 227.24856137,\n",
       "       228.6314392 , 221.55113437, 219.70349519, 227.86829393,\n",
       "       224.16192694, 224.50008872, 224.96883532, 235.04609   ,\n",
       "       219.99155735, 221.75853395, 230.39328165, 227.23791302,\n",
       "       224.20292349, 228.49230332, 224.09311697, 229.40119829,\n",
       "       217.9877541 , 225.61276633, 221.36118599, 225.98025397,\n",
       "       215.56899927, 232.51414521, 216.76435229, 227.04193346,\n",
       "       218.54872373, 222.83811001, 231.67186331, 215.89834175,\n",
       "       214.28538008, 218.23570405, 219.16141764, 229.43864326,\n",
       "       218.46749256, 232.51414521, 215.46889958, 222.8155756 ,\n",
       "       230.38094346, 220.81998816, 231.47465364, 215.93506925,\n",
       "       221.87291426, 227.31423641, 226.70140163, 213.89165464,\n",
       "       227.16943797, 225.20735471, 223.02038388, 222.38530068,\n",
       "       230.38094346, 224.71695939, 218.99011035, 227.83821224,\n",
       "       215.93506925, 234.87802027, 231.37556638, 224.63713815,\n",
       "       222.23685708, 223.02038388, 226.9689482 , 228.27912426,\n",
       "       224.09945771, 233.30532173, 217.35321809, 216.69886849,\n",
       "       227.21372166, 228.68828288, 211.3950382 , 222.97673361,\n",
       "       218.99011035, 219.21192368, 221.05392957, 229.40119829,\n",
       "       219.65552433, 224.13389751, 230.64742216, 226.68547065,\n",
       "       222.83811001, 226.950486  , 222.50907189, 218.89602335,\n",
       "       223.05202728, 223.86669445, 225.43504738, 217.68467256,\n",
       "       221.56145347, 229.73558283, 230.02921505, 220.4642787 ,\n",
       "       219.8490393 , 215.12681982, 225.37995475, 222.90262318,\n",
       "       228.58606135, 222.38659158, 230.86338135, 223.05202728,\n",
       "       224.32987707, 225.4136605 , 230.54539219, 229.84835313,\n",
       "       232.5961692 , 220.85800413, 228.59048898])"
      ]
     },
     "execution_count": 37,
     "metadata": {},
     "output_type": "execute_result"
    }
   ],
   "source": [
    "y_pred_21 = lm.predict(season_avg_21)\n",
    "y_pred_21"
   ]
  },
  {
   "cell_type": "code",
   "execution_count": 38,
   "metadata": {},
   "outputs": [
    {
     "data": {
      "text/html": [
       "<div>\n",
       "<style scoped>\n",
       "    .dataframe tbody tr th:only-of-type {\n",
       "        vertical-align: middle;\n",
       "    }\n",
       "\n",
       "    .dataframe tbody tr th {\n",
       "        vertical-align: top;\n",
       "    }\n",
       "\n",
       "    .dataframe thead th {\n",
       "        text-align: right;\n",
       "    }\n",
       "</style>\n",
       "<table border=\"1\" class=\"dataframe\">\n",
       "  <thead>\n",
       "    <tr style=\"text-align: right;\">\n",
       "      <th></th>\n",
       "      <th>DATE</th>\n",
       "      <th>Home Team</th>\n",
       "      <th>Away Team</th>\n",
       "      <th>Spread</th>\n",
       "      <th>Total</th>\n",
       "      <th>OREB</th>\n",
       "    </tr>\n",
       "  </thead>\n",
       "  <tbody>\n",
       "    <tr>\n",
       "      <th>0</th>\n",
       "      <td>4/10/2021</td>\n",
       "      <td>Brooklyn Nets</td>\n",
       "      <td>Los Angeles Lakers</td>\n",
       "      <td>NaN</td>\n",
       "      <td>226.276246</td>\n",
       "      <td>NaN</td>\n",
       "    </tr>\n",
       "    <tr>\n",
       "      <th>1</th>\n",
       "      <td>4/10/2021</td>\n",
       "      <td>Oklahoma City Thunder</td>\n",
       "      <td>Philadelphia 76ers</td>\n",
       "      <td>NaN</td>\n",
       "      <td>218.518322</td>\n",
       "      <td>NaN</td>\n",
       "    </tr>\n",
       "    <tr>\n",
       "      <th>2</th>\n",
       "      <td>4/10/2021</td>\n",
       "      <td>Utah Jazz</td>\n",
       "      <td>Sacramento Kings</td>\n",
       "      <td>NaN</td>\n",
       "      <td>232.815649</td>\n",
       "      <td>NaN</td>\n",
       "    </tr>\n",
       "    <tr>\n",
       "      <th>3</th>\n",
       "      <td>4/10/2021</td>\n",
       "      <td>Golden State Warriors</td>\n",
       "      <td>Houston Rockets</td>\n",
       "      <td>NaN</td>\n",
       "      <td>231.734614</td>\n",
       "      <td>NaN</td>\n",
       "    </tr>\n",
       "    <tr>\n",
       "      <th>4</th>\n",
       "      <td>4/10/2021</td>\n",
       "      <td>Phoenix Suns</td>\n",
       "      <td>Washington Wizards</td>\n",
       "      <td>NaN</td>\n",
       "      <td>233.326526</td>\n",
       "      <td>NaN</td>\n",
       "    </tr>\n",
       "  </tbody>\n",
       "</table>\n",
       "</div>"
      ],
      "text/plain": [
       "        DATE              Home Team           Away Team  Spread       Total  \\\n",
       "0  4/10/2021          Brooklyn Nets  Los Angeles Lakers     NaN  226.276246   \n",
       "1  4/10/2021  Oklahoma City Thunder  Philadelphia 76ers     NaN  218.518322   \n",
       "2  4/10/2021              Utah Jazz    Sacramento Kings     NaN  232.815649   \n",
       "3  4/10/2021  Golden State Warriors     Houston Rockets     NaN  231.734614   \n",
       "4  4/10/2021           Phoenix Suns  Washington Wizards     NaN  233.326526   \n",
       "\n",
       "           OREB  \n",
       "0           NaN  \n",
       "1           NaN  \n",
       "2           NaN  \n",
       "3           NaN  \n",
       "4           NaN  "
      ]
     },
     "execution_count": 38,
     "metadata": {},
     "output_type": "execute_result"
    }
   ],
   "source": [
    "pred['Total'] = y_pred_21\n",
    "pred.head()"
   ]
  },
  {
   "cell_type": "markdown",
   "metadata": {},
   "source": [
    "Save the new predictions csv with our predictions for Total"
   ]
  },
  {
   "cell_type": "code",
   "execution_count": 39,
   "metadata": {},
   "outputs": [],
   "source": [
    "pred.to_csv('total_predictions.csv')"
   ]
  },
  {
   "cell_type": "code",
   "execution_count": null,
   "metadata": {},
   "outputs": [],
   "source": []
  }
 ],
 "metadata": {
  "kernelspec": {
   "display_name": "Python 3",
   "language": "python",
   "name": "python3"
  },
  "language_info": {
   "codemirror_mode": {
    "name": "ipython",
    "version": 3
   },
   "file_extension": ".py",
   "mimetype": "text/x-python",
   "name": "python",
   "nbconvert_exporter": "python",
   "pygments_lexer": "ipython3",
   "version": "3.8.3"
  }
 },
 "nbformat": 4,
 "nbformat_minor": 4
}
